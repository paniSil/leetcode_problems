{
 "cells": [
  {
   "cell_type": "code",
   "execution_count": null,
   "metadata": {},
   "outputs": [],
   "source": [
    "class Solution:\n",
    "    def mergeAlternately(self, word1: str, word2: str) -> str:\n",
    "        i1 = 0\n",
    "        i2 = 0\n",
    "        i1_max = len(word1)\n",
    "        i2_max = len(word2)\n",
    "        result = ''\n",
    "        while len(result) <= len(word1) + len (word2):\n",
    "            if i1 < i1_max and i2 < i2_max:\n",
    "                result = result + (word1[i1]) + (word2[i2])\n",
    "                i1 += 1\n",
    "                i2 += 1\n",
    "            else:\n",
    "                break\n",
    "            \n",
    "            word1_left = word1[len(word1) - (len(word1)-i1):]\n",
    "            word2_left = word2[len(word2) - (len(word2)-i2):]\n",
    "\n",
    "            fin_result = result + word1_left + word2_left\n",
    "        return fin_result\n",
    "    \n",
    "solution = Solution()\n",
    "result = solution.mergeAlternately(\"abc\", \"xyz\")\n",
    "print(result)"
   ]
  },
  {
   "cell_type": "code",
   "execution_count": null,
   "metadata": {},
   "outputs": [],
   "source": [
    "class Solution:\n",
    "    def gcdOfStrings(self, str1: str, str2: str) -> str:\n",
    "        if str1 + str2 == str2 + str1:\n",
    "            a = len(str1)\n",
    "            b = len(str2)\n",
    "            divider = min (a, b)\n",
    "            while divider > 0:\n",
    "                if a % divider == 0 and b % divider == 0:\n",
    "                    res = str1[:divider]\n",
    "                    break\n",
    "                divider -= 1\n",
    "            return res\n",
    "        else:\n",
    "            return ''"
   ]
  },
  {
   "cell_type": "code",
   "execution_count": 39,
   "metadata": {},
   "outputs": [
    {
     "name": "stdout",
     "output_type": "stream",
     "text": [
      "['ee']\n"
     ]
    }
   ],
   "source": [
    "str1 = input('string 1')\n",
    "str2 = input('string 2')\n",
    "\n",
    "res = ''\n",
    "\n",
    "if len(str1) > len(str2):\n",
    "    for i in str2:\n",
    "        if i in str1:\n",
    "            res += i\n",
    "        elif i not in str1:\n",
    "            res += ' '\n",
    "else:\n",
    "    for i in str1:\n",
    "        if i in str2:\n",
    "            res += i\n",
    "        elif i not in str2:\n",
    "            res += ' '\n",
    "\n",
    "words = res.split()\n",
    "word = max(words, key = len)\n",
    "print(words)\n",
    "            "
   ]
  },
  {
   "cell_type": "code",
   "execution_count": 64,
   "metadata": {},
   "outputs": [
    {
     "name": "stdout",
     "output_type": "stream",
     "text": [
      "baba\n"
     ]
    }
   ],
   "source": [
    "str1 = input('string 1')\n",
    "str2 = input('string 2')\n",
    "\n",
    "res = ''\n",
    "\n",
    "for i in str2:\n",
    "        if i in str1:\n",
    "            res += i\n",
    "        else:\n",
    "            res += ' '\n",
    "\n",
    "words = res.split()\n",
    "word = max(words, key = len)\n",
    "\n",
    "print(word)\n",
    "# For two strings s and t, we say \"t divides s\" if and only if s = t + ... + t\n"
   ]
  },
  {
   "cell_type": "code",
   "execution_count": null,
   "metadata": {},
   "outputs": [],
   "source": [
    "str1 = input('string 1')\n",
    "str2 = input('string 2')\n",
    "\n",
    "if str1 + str2 == str2 + str1:\n",
    "    for i in str2:\n",
    "        gcd_length = gcd(len(str1), len(str2))\n",
    "        res = str1[:gcd_length] \n",
    "        print(res)        \n",
    "    else:\n",
    "        print('no')"
   ]
  },
  {
   "cell_type": "code",
   "execution_count": 87,
   "metadata": {},
   "outputs": [
    {
     "name": "stdout",
     "output_type": "stream",
     "text": [
      "no\n"
     ]
    }
   ],
   "source": [
    "str1 = input('string 1')\n",
    "str2 = input('string 2')\n",
    "\n",
    "if str1 + str2 == str2 + str1:\n",
    "    a = len(str1)\n",
    "    b = len(str2)\n",
    "    divider = min (a, b)\n",
    "    while divider > 0:\n",
    "        if a % divider == 0 and b % divider == 0:\n",
    "            res = str1[:divider]\n",
    "            break\n",
    "        divider -= 1\n",
    "    print(res)\n",
    "else:\n",
    "    print('no')"
   ]
  },
  {
   "cell_type": "code",
   "execution_count": null,
   "metadata": {},
   "outputs": [],
   "source": [
    "class Solution:\n",
    "    def kidsWithCandies(self, candies: List[int], extraCandies: int) -> List[bool]:\n",
    "        res = []\n",
    "        counter = 0\n",
    "        while counter < len(candies):\n",
    "            candies_new = candies[counter] + extraCandies\n",
    "            if candies_new >= max(candies):\n",
    "                res.append('true')\n",
    "            if candies_new < max(candies):\n",
    "                res.append('false')\n",
    "            counter += 1"
   ]
  },
  {
   "cell_type": "code",
   "execution_count": 33,
   "metadata": {},
   "outputs": [
    {
     "name": "stdout",
     "output_type": "stream",
     "text": [
      "[True, False, False, False, False]\n"
     ]
    }
   ],
   "source": [
    "candies = [4,2,1,1,2]\n",
    "extraCandies = 1\n",
    "kids = len(candies)\n",
    "# print(kids)\n",
    "\n",
    "res = []\n",
    "\n",
    "counter = 0\n",
    "while counter < len(candies):\n",
    "    candies_new = candies[counter] + extraCandies\n",
    "    if candies_new >= max(candies):\n",
    "        res.append(True)\n",
    "    if candies_new < max(candies):\n",
    "        res.append(False)\n",
    "    counter += 1\n",
    "\n",
    "print(res)"
   ]
  },
  {
   "cell_type": "code",
   "execution_count": 46,
   "metadata": {},
   "outputs": [
    {
     "name": "stdout",
     "output_type": "stream",
     "text": [
      "[True, False, False, False, False]\n"
     ]
    }
   ],
   "source": [
    "candies = [4,2,1,1,2]\n",
    "extraCandies = 1\n",
    "kids = len(candies)\n",
    "res = []\n",
    "\n",
    "for i in range(kids):\n",
    "    candies_new = candies[i] + extraCandies\n",
    "    if candies_new >= max(candies):\n",
    "        res.append(True)\n",
    "    else:\n",
    "        res.append(False)\n",
    "        \n",
    "\n",
    "print(res)"
   ]
  },
  {
   "cell_type": "code",
   "execution_count": 102,
   "metadata": {},
   "outputs": [
    {
     "name": "stdout",
     "output_type": "stream",
     "text": [
      "[1, 0, 1, 0, 1, 0, 1, 0, 1]\n",
      "False\n"
     ]
    }
   ],
   "source": [
    "flowerbed = [0,0,1,0,0,0,1,0,0]\n",
    "n = 4\n",
    "flowers = len(flowerbed)\n",
    "res = 0\n",
    "\n",
    "for i in range(flowers):\n",
    "    #print(flowerbed[i])\n",
    "    if flowerbed[0] == 0 and flowerbed[1] == 0:\n",
    "        res += 1\n",
    "        flowerbed[0] += 1\n",
    "    if flowerbed[i] == 0 and flowerbed[i-1] == 0 and flowerbed[i+1] == 0:\n",
    "        res += 1\n",
    "        flowerbed[i] += 1\n",
    "    if flowerbed[-1] == 0 and flowerbed[-2] == 0:\n",
    "        res += 1\n",
    "        flowerbed[-1] += 1\n",
    "    else:\n",
    "        continue\n",
    "    \n",
    "print (res >= n)\n",
    "\n"
   ]
  },
  {
   "cell_type": "code",
   "execution_count": null,
   "metadata": {},
   "outputs": [],
   "source": [
    "class Solution:\n",
    "    def canPlaceFlowers(self, flowerbed: List[int], n: int) -> bool:\n",
    "        flowers = len(flowerbed)\n",
    "        res = 0\n",
    "\n",
    "        if flowers > 1:\n",
    "            for i in range(flowers):\n",
    "                if flowerbed[0] == 0 and flowerbed[1] == 0:\n",
    "                    res += 1\n",
    "                    flowerbed[0] += 1\n",
    "                elif flowerbed[i] == 0 and flowerbed[i-1] == 0 and flowerbed[i+1] == 0:\n",
    "                    res += 1\n",
    "                    flowerbed[i] += 1\n",
    "                elif flowerbed[-1] == 0 and flowerbed[-2] == 0:\n",
    "                    res += 1\n",
    "                    flowerbed[-1] += 1\n",
    "                else:\n",
    "                    continue\n",
    "        else:\n",
    "            if flowerbed[0] == 0:\n",
    "                res += 1\n",
    "            \n",
    "        return res >= n"
   ]
  },
  {
   "cell_type": "code",
   "execution_count": 194,
   "metadata": {},
   "outputs": [
    {
     "name": "stdout",
     "output_type": "stream",
     "text": [
      "['h', ' ', 'l', 'l', ' '] 5\n",
      "['o', 'E']\n",
      "hollE\n"
     ]
    },
    {
     "data": {
      "text/plain": [
       "\"for i in s:\\n    if i.lower == 'a' or i.lower == 'e' or i.lower == 'i' or i.lower == 'o' or i.lower == 'u':\\n        temp.append(i)\\n        s = s.replace(i, ' ')\\n\\ntemp.reverse()\\nprint(temp)\\nprint(temp[0])\\nprint(temp[1])\\n\\nn = 0\\nfor i in range(letters):\\n    if s[i] == ' ':\\n        s[i] = temp[n]\\n        n += 1\\n    else:\\n        continue\""
      ]
     },
     "execution_count": 194,
     "metadata": {},
     "output_type": "execute_result"
    }
   ],
   "source": [
    "s = \"hEllo\"\n",
    "temp = []\n",
    "s = list(s)\n",
    "letters = len(s)\n",
    "\n",
    "for i in range(letters):\n",
    "    if s[i].lower() == 'a' or s[i].lower() == 'e' or s[i].lower() == 'i' or s[i].lower() == 'o' or s[i].lower() == 'u':\n",
    "        temp.append(s[i])\n",
    "        s[i] = ' '\n",
    "\n",
    "temp.reverse()\n",
    "\n",
    "print(s, letters)\n",
    "print(temp)\n",
    "\n",
    "n = 0\n",
    "for i in range(letters):\n",
    "    if s[i] == ' ':\n",
    "        s[i] = temp[n]\n",
    "        n += 1\n",
    "\n",
    "s = ''.join(s)\n",
    "\n",
    "print(s)\n"
   ]
  },
  {
   "cell_type": "code",
   "execution_count": null,
   "metadata": {},
   "outputs": [],
   "source": [
    "class Solution:\n",
    "    def reverseVowels(self, s: str) -> str:\n",
    "        temp = []\n",
    "        s = list(s)\n",
    "        letters = len(s)\n",
    "\n",
    "        for i in range(letters):\n",
    "            if s[i].lower() == 'a' or s[i].lower() == 'e' or s[i].lower() == 'i' or s[i].lower() == 'o' or s[i].lower() == 'u':\n",
    "                temp.append(s[i])\n",
    "                s[i] = '!'\n",
    "            if s[i] == ' ':\n",
    "                continue\n",
    "\n",
    "        temp.reverse()\n",
    "\n",
    "        n = 0\n",
    "        for i in range(letters):\n",
    "            if s[i] == '!':\n",
    "                s[i] = temp[n]\n",
    "                n += 1\n",
    "\n",
    "        return ''.join(s)"
   ]
  },
  {
   "cell_type": "code",
   "execution_count": null,
   "metadata": {},
   "outputs": [],
   "source": [
    "numerals = {\n",
    "            'I': 1,\n",
    "            'V': 5,\n",
    "            'X': 10,\n",
    "            'L': 50,\n",
    "            'C': 100,\n",
    "            'D': 500,\n",
    "            'M': 1000\n",
    "        }\n",
    "\n",
    "        result = 0\n",
    "        digit = 0\n",
    "\n",
    "        while digit < len(rome_num):\n",
    "            if digit+1 < len(rome_num):\n",
    "                if numerals[rome_num[digit]] < numerals[rome_num[digit+1]] and rome_num[digit] not in ['L','D']:\n",
    "                    result += numerals[rome_num[digit+1]] - numerals[rome_num[digit]]\n",
    "                    digit += 2\n",
    "                else:\n",
    "                    result += numerals[rome_num[digit]]\n",
    "                    digit += 1\n",
    "            else:\n",
    "                result += numerals[rome_num[digit]]\n",
    "                digit += 1\n",
    "        return result"
   ]
  },
  {
   "cell_type": "code",
   "execution_count": 19,
   "metadata": {},
   "outputs": [
    {
     "data": {
      "text/plain": [
       "False"
      ]
     },
     "execution_count": 19,
     "metadata": {},
     "output_type": "execute_result"
    }
   ],
   "source": [
    "def isPalindrome(x: int) -> bool:\n",
    "        x = list(str(x))\n",
    "        reversed_x = x[::-1]\n",
    "        \n",
    "        return x == reversed_x \n",
    "\n",
    "isPalindrome(10)"
   ]
  }
 ],
 "metadata": {
  "kernelspec": {
   "display_name": "Python 3",
   "language": "python",
   "name": "python3"
  },
  "language_info": {
   "codemirror_mode": {
    "name": "ipython",
    "version": 3
   },
   "file_extension": ".py",
   "mimetype": "text/x-python",
   "name": "python",
   "nbconvert_exporter": "python",
   "pygments_lexer": "ipython3",
   "version": "3.9.6"
  }
 },
 "nbformat": 4,
 "nbformat_minor": 2
}
